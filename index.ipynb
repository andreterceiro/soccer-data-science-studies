{
 "cells": [
  {
   "cell_type": "markdown",
   "metadata": {},
   "source": [
    "# Overview\n",
    "\n",
    "In this repository will be done several verifications related to soccer.\n",
    "\n",
    "\n",
    "# Requirements\n",
    "\n",
    "Pandas\n",
    "\n",
    "\n",
    "# Pandas version that I used\n",
    "\n",
    "1.2.2\n",
    "\n",
    "\n",
    "# Pyplot version that I used\n",
    "\n",
    "1.20.1\n",
    "\n",
    "\n",
    "# Matplotlib version that I used\n",
    "\n",
    "3.3.4\n",
    "\n",
    "\n",
    "# Python version that I used\n",
    "\n",
    "3.8.5\n",
    "\n",
    "\n",
    "# How I worked with the Jupyter notebook\n",
    "\n",
    "In the VSCode trough the extension **Jupyter**."
   ]
  },
  {
   "cell_type": "code",
   "execution_count": 3,
   "metadata": {},
   "outputs": [
    {
     "name": "stdout",
     "output_type": "stream",
     "text": [
      "1.2.2\n",
      "1.20.1\n",
      "3.3.4\n"
     ]
    }
   ],
   "source": [
    "import pandas as pd\n",
    "import numpy as np\n",
    "import matplotlib as matplotlib\n",
    "import matplotlib.pyplot as plt\n",
    "\n",
    "# Checking Pandas version\n",
    "print(pd.__version__)\n",
    "\n",
    "# Checking Numpy version\n",
    "print(np.__version__)\n",
    "\n",
    "# Checking Matplotlib\n",
    "print(matplotlib.__version__)\n",
    "\n",
    "# Reading a csv\n",
    "dataframe = pd.read_csv('databases/mundo_transfermarkt_competicoes_brasileirao_serie_a.csv')\n",
    "\n",
    "# Please see the backslash in the output and the original CSV file\n",
    "# Only five lines was outputed\n",
    "#print(dataframe.head())\n",
    "\n",
    "dataframeJogosSaoPauloTodosAnos = dataframe.loc[dataframe.time_mandante == \"São Paulo\"]\n",
    "\n",
    "dataframeJogosSaoPaulo2024 = dataframeJogosSaoPauloTodosAnos.loc[dataframeJogosSaoPauloTodosAnos.ano_campeonato == 2024]\n",
    "# print(dataframeJogosSaoPauloSo2024)"
   ]
  },
  {
   "cell_type": "code",
   "execution_count": 19,
   "metadata": {},
   "outputs": [
    {
     "data": {
      "image/png": "[encoded data removed]",
      "text/plain": [
       "<Figure size 432x288 with 1 Axes>"
      ]
     },
     "metadata": {},
     "output_type": "display_data"
    }
   ],
   "source": [
    "dataFrameJogosSaoPaulo2024EmCasa = dataframeJogosSaoPaulo2024.loc[dataframeJogosSaoPaulo2024.time_mandante == \"São Paulo\"]\n",
    "#print(dataFrameJogosSaoPaulo2024EmCasa)\n",
    "\n",
    "totalJogosSaoPaulo2024EmCasaVitorias = len(dataFrameJogosSaoPaulo2024EmCasa.loc[dataFrameJogosSaoPaulo2024EmCasa.gols_mandante > dataFrameJogosSaoPaulo2024EmCasa.gols_visitante])\n",
    "#print(totalJogosSaoPaulo2024EmCasaVitorias)\n",
    "pontosSaoPaulo2024EmCasa = 3 * totalJogosSaoPaulo2024EmCasaVitorias\n",
    "\n",
    "totalJogosSaoPaulo2024EmCasaEmpates = len(dataFrameJogosSaoPaulo2024EmCasa.loc[dataFrameJogosSaoPaulo2024EmCasa.gols_mandante == dataFrameJogosSaoPaulo2024EmCasa.gols_visitante])\n",
    "#print(totalJogosSaoPaulo2024EmCasaEmpates)\n",
    "pontosSaoPaulo2024EmCasa = pontosSaoPaulo2024EmCasa + totalJogosSaoPaulo2024EmCasaEmpates\n",
    "\n",
    "totalJogosSaoPaulo2024EmCasaDerrotas = len(dataFrameJogosSaoPaulo2024EmCasa.loc[dataFrameJogosSaoPaulo2024EmCasa.gols_mandante < dataFrameJogosSaoPaulo2024EmCasa.gols_visitante])\n",
    "#print(totalJogosSaoPaulo2024EmCasaDerrotas)\n",
    "\n",
    "data = np.array([totalJogosSaoPaulo2024EmCasaVitorias, totalJogosSaoPaulo2024EmCasaEmpates, totalJogosSaoPaulo2024EmCasaDerrotas])\n",
    "\n",
    "pctVitoriasEmCasa2024 = str(totalJogosSaoPaulo2024EmCasaVitorias / len(dataFrameJogosSaoPaulo2024EmCasa) * 100) + \" %\"\n",
    "pctEmpatesEmCasa2024 = str(totalJogosSaoPaulo2024EmCasaEmpates / len(dataFrameJogosSaoPaulo2024EmCasa) * 100) + \" %\"\n",
    "pctDerrotasEmCasa2024 = str(totalJogosSaoPaulo2024EmCasaDerrotas / len(dataFrameJogosSaoPaulo2024EmCasa) * 100) + \" %\"\n",
    "\n",
    "labels = [\"Vitórias (\" + pctVitoriasEmCasa2024 + \")\" , \"Empates (\" + pctEmpatesEmCasa2024 + \")\", \"Derrotas (\" + pctDerrotasEmCasa2024 + \")\"]\n",
    "\n",
    "plt.pie(data, labels = labels)\n",
    "plt.show() "
   ]
  },
  {
   "cell_type": "code",
   "execution_count": 39,
   "metadata": {},
   "outputs": [],
   "source": [
    "dataFrameJogosSaoPaulo2024Visitante = dataframeJogosSaoPauloSo2024.loc[dataframeJogosSaoPauloSo2024.time_visitante == \"São Paulo\"]\n",
    "#print(dataFrameJogosSaoPaulo2024EmCasa)\n",
    "\n",
    "totalJogosSaoPaulo2024VisitanteVitorias = len(dataFrameJogosSaoPaulo2024Visitante.loc[dataFrameJogosSaoPaulo2024Visitante.gols_visitante > dataFrameJogosSaoPaulo2024Visitante.gols_mandante])\n",
    "#print(totalJogosSaoPaulo2024EmCasaVitorias)\n",
    "pontosSaoPaulo2024Visitante = 3 * totalJogosSaoPaulo2024VisitanteVitorias\n",
    "\n",
    "totalJogosSaoPaulo2024VisitanteEmpates = len(dataFrameJogosSaoPaulo2024Visitante.loc[dataFrameJogosSaoPaulo2024Visitante.gols_visitante == dataFrameJogosSaoPaulo2024Visitante.gols_mandante])\n",
    "#print(totalJogosSaoPaulo2024EmCasaEmpates)\n",
    "pontosSaoPaulo2024Visitante = pontosSaoPaulo2024Visitante + totalJogosSaoPaulo2024VisitanteEmpates\n",
    "\n",
    "totalJogosSaoPaulo2024VisitanteDerrotas = len(dataFrameJogosSaoPaulo2024Visitante.loc[dataFrameJogosSaoPaulo2024Visitante.gols_visitante < dataFrameJogosSaoPaulo2024Visitante.gols_visitante])\n",
    "#print(totalJogosSaoPaulo2024EmCasaDerrotas)"
   ]
  }
 ],
 "metadata": {
  "kernelspec": {
   "display_name": "Python 3",
   "language": "python",
   "name": "python3"
  },
  "language_info": {
   "codemirror_mode": {
    "name": "ipython",
    "version": 3
   },
   "file_extension": ".py",
   "mimetype": "text/x-python",
   "name": "python",
   "nbconvert_exporter": "python",
   "pygments_lexer": "ipython3",
   "version": "3.8.5"
  }
 },
 "nbformat": 4,
 "nbformat_minor": 2
}
