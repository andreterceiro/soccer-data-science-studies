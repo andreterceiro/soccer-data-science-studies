{
 "cells": [
  {
   "cell_type": "markdown",
   "metadata": {},
   "source": [
    "# Overview\n",
    "\n",
    "In this repository will be done several verifications related to soccer.\n",
    "\n",
    "\n",
    "# Requirements\n",
    "\n",
    "Pandas\n",
    "\n",
    "\n",
    "# Pandas version that I used\n",
    "\n",
    "1.2.2\n",
    "\n",
    "\n",
    "# Python version that I used\n",
    "\n",
    "3.8.5\n",
    "\n",
    "\n",
    "# How I worked with the Jupyter notebook\n",
    "\n",
    "In the VSCode trough the extension **Jupyter**."
   ]
  },
  {
   "cell_type": "code",
   "execution_count": 6,
   "metadata": {},
   "outputs": [
    {
     "name": "stdout",
     "output_type": "stream",
     "text": [
      "1.2.2\n",
      "   ano_campeonato        data  rodada estadio                      arbitro  \\\n",
      "0            2007  2007-07-07      10     NaN     Sergio da Silva Carvalho   \n",
      "1            2007  2007-07-22      13     NaN           Antonio Hora Filho   \n",
      "2            2007  2007-07-27      14     NaN  Luiz Alberto Sardinha Bites   \n",
      "3            2007  2007-08-02      16     NaN     Lourival Dias Lima Filho   \n",
      "4            2007  2007-07-20      12     NaN     Leonardo Gaciba da Silva   \n",
      "\n",
      "   publico  publico_max time_mandante time_visitante tecnico_mandante  ...  \\\n",
      "0  24923.0          NaN      Botafogo    Atlético-PR              NaN  ...   \n",
      "1  10171.0          NaN    Fluminense       Goiás EC              NaN  ...   \n",
      "2      0.0          NaN      Botafogo      Juventude              NaN  ...   \n",
      "3  13314.0          NaN      Botafogo     América-RN              NaN  ...   \n",
      "4  45000.0          NaN      Flamengo         Paraná       Ney Franco  ...   \n",
      "\n",
      "  chutes_bola_parada_mandante  chutes_bola_parada_visitante  defesas_mandante  \\\n",
      "0                         NaN                           NaN               NaN   \n",
      "1                         NaN                           NaN               NaN   \n",
      "2                         NaN                           NaN               NaN   \n",
      "3                         NaN                           NaN               NaN   \n",
      "4                         NaN                           NaN               NaN   \n",
      "\n",
      "   defesas_visitante  impedimentos_mandante  impedimentos_visitante  \\\n",
      "0                NaN                    NaN                     NaN   \n",
      "1                NaN                    NaN                     NaN   \n",
      "2                NaN                    NaN                     NaN   \n",
      "3                NaN                    NaN                     NaN   \n",
      "4                NaN                    NaN                     NaN   \n",
      "\n",
      "   chutes_mandante  chutes_visitante  chutes_fora_mandante  \\\n",
      "0              NaN               NaN                   NaN   \n",
      "1              NaN               NaN                   NaN   \n",
      "2              NaN               NaN                   NaN   \n",
      "3              NaN               NaN                   NaN   \n",
      "4              NaN               NaN                   NaN   \n",
      "\n",
      "   chutes_fora_visitante  \n",
      "0                    NaN  \n",
      "1                    NaN  \n",
      "2                    NaN  \n",
      "3                    NaN  \n",
      "4                    NaN  \n",
      "\n",
      "[5 rows x 35 columns]\n"
     ]
    }
   ],
   "source": [
    "import pandas as pd\n",
    "\n",
    "# Checking Pandas version\n",
    "print(pd.__version__)\n",
    "\n",
    "# Reading a csv\n",
    "dataframe = pd.read_csv('databases/mundo_transfermarkt_competicoes_brasileirao_serie_a.csv')\n",
    "\n",
    "# Please see the backslash in the output and the original CSV file\n",
    "# Only five lines was outputed\n",
    "print(dataframe.head())\n",
    "\n"
   ]
  }
 ],
 "metadata": {
  "kernelspec": {
   "display_name": "Python 3",
   "language": "python",
   "name": "python3"
  },
  "language_info": {
   "codemirror_mode": {
    "name": "ipython",
    "version": 3
   },
   "file_extension": ".py",
   "mimetype": "text/x-python",
   "name": "python",
   "nbconvert_exporter": "python",
   "pygments_lexer": "ipython3",
   "version": "3.8.5"
  }
 },
 "nbformat": 4,
 "nbformat_minor": 2
}
